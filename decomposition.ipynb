{
 "cells": [
  {
   "cell_type": "markdown",
   "id": "e4487bee-d142-4063-b900-99b20022843b",
   "metadata": {},
   "source": [
    "\n",
    "# Algoritmo de triangulação\n",
    "\n",
    "A triangulação do polígono é o primeiro ingrediente da nossa solução para o problema da galeria de arte. O objetivo desse notebook é explicar como fazer isso através do algoritmo de *ear decomposition* (decomposição por orelhas).  \n",
    "Primeiro, lemos o polígono de um arquivo de entrada"
   ]
  },
  {
   "cell_type": "code",
   "execution_count": 25,
   "id": "3c609909-9e1c-4beb-862d-d59674bfbbeb",
   "metadata": {
    "scrolled": true
   },
   "outputs": [],
   "source": [
    "# Selecione o polígono entre in0, in1, in2 e in3\n",
    "polygon = \"in2\"\n",
    "\n",
    "# Leitura da entrada\n",
    "\n",
    "with open(polygon) as f:\n",
    "    L = list(f.readline().split())\n",
    "\n",
    "N = int(L[0])\n",
    "L = L[1:]\n",
    "\n",
    "points = []\n",
    "for i in range(0, N):\n",
    "    s, t = L[2*i], L[2*i+1]\n",
    "    a, b = map(int, s.split('/'))\n",
    "    c, d = map(int, t.split('/'))\n",
    "    points.append((a/b, c/d))"
   ]
  },
  {
   "cell_type": "markdown",
   "id": "0538cc68-d8b9-4d66-9600-82f14e7497eb",
   "metadata": {},
   "source": [
    "Precisamos de algumas primitivas geométricas"
   ]
  },
  {
   "cell_type": "code",
   "execution_count": 26,
   "id": "1645ea16-d30e-475b-960b-5d2638007b00",
   "metadata": {
    "scrolled": true
   },
   "outputs": [],
   "source": [
    "# Primitiva de sentido horário/anti-horário\n",
    "\n",
    "eps = 1e-6\n",
    "\n",
    "def ccw(i, j, k):\n",
    "    (ix, iy) = points[i]\n",
    "    (jx, jy) = points[j]\n",
    "    (kx, ky) = points[k]\n",
    "    \n",
    "    (vx, vy) = (jx - ix, jy - iy)\n",
    "    (wx, wy) = (kx - jx, ky - jy)\n",
    "    \n",
    "    return vx*wy - vy*wx > eps\n",
    "\n",
    "\n",
    "# Primitiva de estar dentro de um triângulo (l dentro de i, j, k)\n",
    "\n",
    "def inside(i, j, k, l):\n",
    "    return ccw(i, j, l) and ccw(j, k, l) and ccw(k, i, l)"
   ]
  },
  {
   "cell_type": "markdown",
   "id": "f43eee56-5a5b-4ad3-a177-d3ca60a02732",
   "metadata": {},
   "source": [
    "Segue o algoritmo que decide se um ponto é uma orelha"
   ]
  },
  {
   "cell_type": "code",
   "execution_count": 27,
   "id": "f091f20b-382c-47a0-8f26-98704eac7eac",
   "metadata": {
    "scrolled": true
   },
   "outputs": [],
   "source": [
    "# Sou ponta de orelha? Complexidade O(N)\n",
    "\n",
    "def eartest(j):\n",
    "    i, k = prev[j], prox[j]\n",
    "    \n",
    "    if not ccw(i, j, k):\n",
    "        print(j, \"is not an ear because\", i, j, k, \"are not counterclockwise\")\n",
    "        return False\n",
    "    \n",
    "    for l in range(0, N):\n",
    "        if inside(i, j, k, l):\n",
    "            print(j, \"is not an ear because\", l, \"is in triangle\", i, j, k)\n",
    "            return False\n",
    "    \n",
    "    return True"
   ]
  },
  {
   "cell_type": "markdown",
   "id": "16c9750d-9274-45f7-aa11-20b0380e8291",
   "metadata": {},
   "source": [
    "Segue o algoritmo de triangulação"
   ]
  },
  {
   "cell_type": "code",
   "execution_count": 28,
   "id": "63fb498f-fb49-42e0-8df2-4b45e894bbfa",
   "metadata": {
    "scrolled": true
   },
   "outputs": [
    {
     "name": "stdout",
     "output_type": "stream",
     "text": [
      "1 is not an ear because 0 1 2 are not counterclockwise\n",
      "2 is not an ear because 1 2 3 are not counterclockwise\n",
      "5 is not an ear because 4 5 6 are not counterclockwise\n",
      "6 is not an ear because 5 6 7 are not counterclockwise\n",
      "8 is not an ear because 15 is in triangle 7 8 9\n",
      "9 is not an ear because 8 9 10 are not counterclockwise\n",
      "10 is not an ear because 9 10 11 are not counterclockwise\n",
      "13 is not an ear because 10 is in triangle 12 13 14\n",
      "14 is not an ear because 9 is in triangle 13 14 15\n",
      "15 is not an ear because 14 15 16 are not counterclockwise\n",
      "16 is not an ear because 15 16 17 are not counterclockwise\n",
      "ear: [True, False, False, True, True, False, False, True, False, False, False, True, True, False, False, False, False, True, True, True]\n",
      "1 is not an ear because 19 1 2 are not counterclockwise\n",
      "1 is not an ear because 19 1 4 are not counterclockwise\n",
      "1 is not an ear because 19 1 5 are not counterclockwise\n",
      "5 is not an ear because 16 is in triangle 1 5 6\n",
      "6 is not an ear because 5 6 8 are not counterclockwise\n",
      "8 is not an ear because 15 is in triangle 6 8 9\n",
      "10 is not an ear because 9 10 12 are not counterclockwise\n",
      "9 is not an ear because 8 9 13 are not counterclockwise\n",
      "8 is not an ear because 15 is in triangle 6 8 14\n",
      "6 is not an ear because 5 6 15 are not counterclockwise\n",
      "16 is not an ear because 6 16 17 are not counterclockwise\n",
      "19 is not an ear because 18 19 18 are not counterclockwise\n",
      "18 is not an ear because 19 18 19 are not counterclockwise\n",
      "triangulation: [(19, 0, 1), (2, 3, 4), (1, 2, 4), (1, 4, 5), (6, 7, 8), (10, 11, 12), (10, 12, 13), (9, 10, 13), (9, 13, 14), (8, 9, 14), (8, 14, 15), (6, 8, 15), (6, 15, 16), (5, 6, 16), (1, 5, 16), (19, 1, 16), (19, 16, 17), (19, 17, 18)]\n"
     ]
    }
   ],
   "source": [
    "# Adjacência no polígono\n",
    "\n",
    "prev = []\n",
    "prox = []\n",
    "\n",
    "for i in range(0, N):\n",
    "    prev.append((i-1)%N)\n",
    "    prox.append((i+1)%N)\n",
    "  \n",
    "    \n",
    "# Inicialmente, quem é orelha? Complexidade: O(N^2)\n",
    "\n",
    "ear = []\n",
    "\n",
    "for j in range(0, N):\n",
    "    ear.append(eartest(j))\n",
    "\n",
    "print(\"ear:\", ear)\n",
    "\n",
    "\n",
    "# Triangulação. Complexidade: O(N^2)\n",
    "\n",
    "triangulation = []\n",
    "remaining = N\n",
    "\n",
    "while remaining >= 3:\n",
    "\n",
    "    # Encontrar uma orelha\n",
    "    i = 0\n",
    "    for j in range(0, N):\n",
    "        if ear[j]:\n",
    "            i = j\n",
    "            break\n",
    "    \n",
    "    # Adicionar o triangulo encontrado\n",
    "    triangulation.append((prev[i], i, prox[i]))\n",
    "    ear[i] = False\n",
    "    \n",
    "    # Remover i do polígono\n",
    "    prox[prev[i]] = prox[i]\n",
    "    prev[prox[i]] = prev[i]\n",
    "    remaining -= 1\n",
    "    \n",
    "    # Atualizar \"status de orelha\" dos vizinhos\n",
    "    ear[prev[i]] = eartest(prev[i])\n",
    "    ear[prox[i]] = eartest(prox[i])\n",
    "    \n",
    "\n",
    "\n",
    "print(\"triangulation:\", triangulation)"
   ]
  },
  {
   "cell_type": "code",
   "execution_count": null,
   "id": "07c215a7-5fc4-472d-8eb2-6655f7815b1d",
   "metadata": {},
   "outputs": [],
   "source": []
  }
 ],
 "metadata": {
  "kernelspec": {
   "display_name": "Python 3 (ipykernel)",
   "language": "python",
   "name": "python3"
  },
  "language_info": {
   "codemirror_mode": {
    "name": "ipython",
    "version": 3
   },
   "file_extension": ".py",
   "mimetype": "text/x-python",
   "name": "python",
   "nbconvert_exporter": "python",
   "pygments_lexer": "ipython3",
   "version": "3.10.12"
  }
 },
 "nbformat": 4,
 "nbformat_minor": 5
}
