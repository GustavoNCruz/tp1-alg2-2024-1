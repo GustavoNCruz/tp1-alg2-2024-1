{
 "cells": [
  {
   "cell_type": "markdown",
   "id": "e4487bee-d142-4063-b900-99b20022843b",
   "metadata": {},
   "source": [
    "\n",
    "# Algoritmo de triangulação\n",
    "\n",
    "A triangulação do polígono é o primeiro ingrediente da nossa solução para o problema da galeria de arte. O objetivo desse notebook é explicar como fazer isso através do algoritmo de *ear decomposition* (decomposição por orelhas).  \n",
    "Primeiro, lemos o polígono de um arquivo de entrada"
   ]
  },
  {
   "cell_type": "code",
   "execution_count": null,
   "id": "3c609909-9e1c-4beb-862d-d59674bfbbeb",
   "metadata": {},
   "outputs": [],
   "source": [
    "import matplotlib.pyplot as plt\n",
    "\n",
    "# Selecione o polígono entre in0, in1, in2, ... in6\n",
    "polygon = \"in2\"\n",
    "\n",
    "# Leitura da entrada\n",
    "\n",
    "with open(\"pols/\" + polygon) as f:\n",
    "    L = list(f.readline().split())\n",
    "\n",
    "N = int(L[0])\n",
    "L = L[1:]\n",
    "\n",
    "points = []\n",
    "\n",
    "for i in range(0, N):\n",
    "    s, t = L[2*i], L[2*i+1]\n",
    "    a, b = map(int, s.split('/'))\n",
    "    c, d = map(int, t.split('/'))\n",
    "    points.append((a/b, c/d))\n",
    "\n",
    "def plt_pol():\n",
    "    plt.figure(figsize=(5, 5))\n",
    "    plt.axis('equal')\n",
    "    xs = [x for (x, y) in points]\n",
    "    ys = [y for (x, y) in points]\n",
    "    plt.fill(xs, ys)\n",
    "    plt.show()\n",
    "\n",
    "plt_pol()"
   ]
  },
  {
   "cell_type": "markdown",
   "id": "0538cc68-d8b9-4d66-9600-82f14e7497eb",
   "metadata": {},
   "source": [
    "Precisamos de algumas primitivas geométricas"
   ]
  },
  {
   "cell_type": "code",
   "execution_count": null,
   "id": "1645ea16-d30e-475b-960b-5d2638007b00",
   "metadata": {
    "scrolled": true
   },
   "outputs": [],
   "source": [
    "# Primitiva de sentido horário/anti-horário\n",
    "\n",
    "\n",
    "def ccw(i, j, k, eps=1e-9):\n",
    "    (ix, iy) = points[i]\n",
    "    (jx, jy) = points[j]\n",
    "    (kx, ky) = points[k]\n",
    "    \n",
    "    (vx, vy) = (jx - ix, jy - iy)\n",
    "    (wx, wy) = (kx - jx, ky - jy)\n",
    "    \n",
    "    return vx*wy - vy*wx > eps\n",
    "\n",
    "\n",
    "# Primitiva de estar dentro de um triângulo (l dentro de i, j, k)\n",
    "\n",
    "def inside(i, j, k, l):\n",
    "    return ccw(i, j, l) and ccw(j, k, l) and ccw(k, i, l)"
   ]
  },
  {
   "cell_type": "markdown",
   "id": "f43eee56-5a5b-4ad3-a177-d3ca60a02732",
   "metadata": {},
   "source": [
    "Segue o algoritmo que decide se um ponto é uma orelha"
   ]
  },
  {
   "cell_type": "code",
   "execution_count": null,
   "id": "f091f20b-382c-47a0-8f26-98704eac7eac",
   "metadata": {
    "scrolled": true
   },
   "outputs": [],
   "source": [
    "# Sou ponta de orelha? Complexidade O(N)\n",
    "\n",
    "def eartest(j):\n",
    "    i, k = prev[j], prox[j]\n",
    "    \n",
    "    if not ccw(i, j, k):\n",
    "        return False\n",
    "    \n",
    "    for l in range(0, N):\n",
    "        if inside(i, j, k, l):\n",
    "            return False\n",
    "\n",
    "    return True"
   ]
  },
  {
   "cell_type": "markdown",
   "id": "16c9750d-9274-45f7-aa11-20b0380e8291",
   "metadata": {},
   "source": [
    "Segue o algoritmo de triangulação"
   ]
  },
  {
   "cell_type": "code",
   "execution_count": null,
   "id": "4a4f4ba2-b99c-49db-bff3-8c33c23be740",
   "metadata": {
    "scrolled": true
   },
   "outputs": [],
   "source": [
    "# Triangulação. Complexidade: O(N^2)\n",
    "\n",
    "def triangulate():  \n",
    "    \n",
    "    # Adjacência no polígono\n",
    "    \n",
    "    global prev, prox\n",
    "    prev, prox = [], []\n",
    "    for i in range(0, N):\n",
    "        prev.append((i-1)%N)\n",
    "        prox.append((i+1)%N)\n",
    "    \n",
    "    # Inicialmente, quem é orelha?\n",
    "    \n",
    "    ear = []\n",
    "    \n",
    "    for j in range(0, N):\n",
    "        ear.append(eartest(j))\n",
    "    \n",
    "    triangulation = []\n",
    "    remaining = N\n",
    "    \n",
    "    # Loop principal\n",
    "    \n",
    "    while remaining >= 3:\n",
    "    \n",
    "        # Encontrar uma orelha\n",
    "        i = -1\n",
    "        for j in range(0, N):\n",
    "            if ear[j]:\n",
    "                i = j\n",
    "                break\n",
    "        \n",
    "        # Adicionar o triangulo encontrado\n",
    "        triangulation.append((prev[i], i, prox[i]))\n",
    "        ear[i] = False\n",
    "        \n",
    "        # Remover i do polígono\n",
    "        prox[prev[i]] = prox[i]\n",
    "        prev[prox[i]] = prev[i]\n",
    "        remaining -= 1\n",
    "        \n",
    "        # Atualizar \"status de orelha\" dos vizinhos\n",
    "        ear[prev[i]] = eartest(prev[i])\n",
    "        ear[prox[i]] = eartest(prox[i])\n",
    "        \n",
    "    return triangulation"
   ]
  },
  {
   "cell_type": "markdown",
   "id": "b5455de8-39a1-4533-b9d2-e500ae9181ed",
   "metadata": {},
   "source": [
    "Agora, vamos plotar o resultado"
   ]
  },
  {
   "cell_type": "code",
   "execution_count": null,
   "id": "cc2b80d3-1a5c-4b96-a74e-5f78550cd6e7",
   "metadata": {},
   "outputs": [],
   "source": [
    "def plt_tring():\n",
    "    plt.figure(figsize=(5, 5))\n",
    "    plt.axis('equal')\n",
    "    for t in triangulate():\n",
    "        l = [points[i] for i in t]\n",
    "        txs = [x for (x, y) in l]\n",
    "        tys = [y for (x, y) in l]\n",
    "        plt.fill(txs, tys, edgecolor='black', linewidth=0.05)\n",
    "    plt.show()\n",
    "\n",
    "plt_pol()\n",
    "plt_tring()"
   ]
  },
  {
   "cell_type": "code",
   "execution_count": null,
   "id": "a4ba75dc-76aa-4ecd-8098-e2ce5625d3cb",
   "metadata": {},
   "outputs": [],
   "source": []
  }
 ],
 "metadata": {
  "kernelspec": {
   "display_name": "Python 3 (ipykernel)",
   "language": "python",
   "name": "python3"
  },
  "language_info": {
   "codemirror_mode": {
    "name": "ipython",
    "version": 3
   },
   "file_extension": ".py",
   "mimetype": "text/x-python",
   "name": "python",
   "nbconvert_exporter": "python",
   "pygments_lexer": "ipython3",
   "version": "3.10.12"
  }
 },
 "nbformat": 4,
 "nbformat_minor": 5
}
